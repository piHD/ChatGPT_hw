{
  "cells": [
    {
      "cell_type": "code",
      "execution_count": 146,
      "metadata": {
        "id": "9Bp_ELVmVeeu"
      },
      "outputs": [],
      "source": [
        "import numpy as np\n",
        "import pandas as pd\n",
        "from sklearn.model_selection import train_test_split\n",
        "from sklearn.preprocessing import StandardScaler\n",
        "from sklearn.metrics import classification_report\n",
        "from sklearn.metrics import accuracy_score, precision_score, recall_score, f1_score, roc_auc_score, confusion_matrix\n",
        "import kagglehub\n",
        "import xgboost as xgb # 監督式模型\n",
        "from sklearn.ensemble import IsolationForest # 非監督式模型\n",
        "\n",
        "# general setting. do not change TEST_SIZE\n",
        "RANDOM_SEED = 42\n",
        "TEST_SIZE = 0.3\n",
        "\n",
        "# 結果呈現\n",
        "def evaluation(y_true, y_pred, model_name=\"Model\"):\n",
        "   accuracy = accuracy_score(y_true, y_pred)\n",
        "   precision = precision_score(y_true, y_pred, zero_division=0)\n",
        "   recall = recall_score(y_true, y_pred)\n",
        "   f1 = f1_score(y_true, y_pred)\n",
        "\n",
        "   print(f'\\n{model_name} Evaluation:')\n",
        "   print('===' * 15)\n",
        "   print('         Accuracy:', accuracy)\n",
        "   print('  Precision Score:', precision)\n",
        "   print('     Recall Score:', recall)\n",
        "   print('         F1 Score:', f1)\n",
        "   print(\"\\nClassification Report:\")\n",
        "   print(classification_report(y_true, y_pred))"
      ]
    },
    {
      "cell_type": "code",
      "execution_count": 3,
      "metadata": {
        "colab": {
          "base_uri": "https://localhost:8080/"
        },
        "id": "qbv1dxUzWYE5",
        "outputId": "a8954303-aaa2-4291-9004-6784d0f5ca5b"
      },
      "outputs": [
        {
          "output_type": "stream",
          "name": "stdout",
          "text": [
            "Fraudulent:492, non-fraudulent:284315\n",
            "the positive class (frauds) percentage: 492/284807 (0.173%)\n"
          ]
        }
      ],
      "source": [
        "# load dataset（from kagglehub）\n",
        "path = kagglehub.dataset_download(\"mlg-ulb/creditcardfraud\")\n",
        "data = pd.read_csv(f\"{path}/creditcard.csv\")\n",
        "data['Class'] = data['Class'].astype(int)\n",
        "\n",
        "# prepare data\n",
        "data = data.drop(['Time'], axis=1)\n",
        "data['Amount'] = StandardScaler().fit_transform(data['Amount'].values.reshape(-1, 1))\n",
        "\n",
        "# transactions of fraud and non-fraud\n",
        "fraud = data[data['Class'] == 1]\n",
        "nonfraud = data[data['Class'] == 0]\n",
        "print(f'Fraudulent:{len(fraud)}, non-fraudulent:{len(nonfraud)}')\n",
        "print(f'the positive class (frauds) percentage: {len(fraud)}/{len(fraud) + len(nonfraud)} ({len(fraud)/(len(fraud) + len(nonfraud))*100:.3f}%)')"
      ]
    },
    {
      "cell_type": "code",
      "execution_count": 68,
      "metadata": {
        "colab": {
          "base_uri": "https://localhost:8080/"
        },
        "id": "gkoKnOuTaJUi",
        "outputId": "13eca25b-a8ab-4538-a9ff-cba64c3bd387"
      },
      "outputs": [
        {
          "output_type": "stream",
          "name": "stdout",
          "text": [
            "\n",
            "XGBoost Evaluation:\n",
            "=============================================\n",
            "         Accuracy: 0.9995786664794073\n",
            "  Precision Score: 0.9590163934426229\n",
            "     Recall Score: 0.7905405405405406\n",
            "         F1 Score: 0.8666666666666667\n",
            "\n",
            "Classification Report:\n",
            "              precision    recall  f1-score   support\n",
            "\n",
            "           0       1.00      1.00      1.00     85295\n",
            "           1       0.96      0.79      0.87       148\n",
            "\n",
            "    accuracy                           1.00     85443\n",
            "   macro avg       0.98      0.90      0.93     85443\n",
            "weighted avg       1.00      1.00      1.00     85443\n",
            "\n"
          ]
        }
      ],
      "source": [
        "# Extract features and labels\n",
        "X = np.asarray(data.iloc[:, ~data.columns.isin(['Class'])])\n",
        "Y = np.asarray(data.iloc[:, data.columns == 'Class'])\n",
        "\n",
        "# 分成訓練與測試資料，stratify(分層)是為了分割後，保持挑選的資料中有不同的class\n",
        "x_train, x_test, y_train, y_test = train_test_split(X, Y, test_size=TEST_SIZE, random_state=RANDOM_SEED, stratify=Y)\n",
        "\n",
        "# 監督式模型XGBoost\n",
        "xgb_model = xgb.XGBClassifier(\n",
        "    n_estimators=500,\n",
        "    max_depth=8,\n",
        "    learning_rate=0.3,\n",
        "    subsample=0.5,\n",
        "    colsample_bytree=0.8,\n",
        "    eval_metric='logloss',\n",
        "    random_state=RANDOM_SEED\n",
        ")\n",
        "\n",
        "xgb_model.fit(x_train, y_train)\n",
        "\n",
        "# 預測與結果\n",
        "y_pred = xgb_model.predict(x_test)\n",
        "evaluation(y_test, y_pred, model_name=\"XGBoost\")"
      ]
    },
    {
      "cell_type": "code",
      "execution_count": 145,
      "metadata": {
        "colab": {
          "base_uri": "https://localhost:8080/"
        },
        "id": "02W_U-Grb_0B",
        "outputId": "6b498230-11de-4129-dd3e-9ce65567e655"
      },
      "outputs": [
        {
          "output_type": "stream",
          "name": "stdout",
          "text": [
            "\n",
            "IsolationForest Evaluation:\n",
            "=============================================\n",
            "         Accuracy: 0.9984785178423042\n",
            "  Precision Score: 0.5584415584415584\n",
            "     Recall Score: 0.581081081081081\n",
            "         F1 Score: 0.5695364238410596\n",
            "\n",
            "Classification Report:\n",
            "              precision    recall  f1-score   support\n",
            "\n",
            "           0       1.00      1.00      1.00     85295\n",
            "           1       0.56      0.58      0.57       148\n",
            "\n",
            "    accuracy                           1.00     85443\n",
            "   macro avg       0.78      0.79      0.78     85443\n",
            "weighted avg       1.00      1.00      1.00     85443\n",
            "\n"
          ]
        }
      ],
      "source": [
        "# Extract features and labels\n",
        "x = np.asarray(data.drop(columns=['Class']))\n",
        "y = np.asarray(data['Class'])\n",
        "\n",
        "# 分成訓練與測試資料\n",
        "x_train, x_test, y_train, y_test = train_test_split(\n",
        "   x, y, test_size=TEST_SIZE, random_state=RANDOM_SEED, stratify=y)\n",
        "\n",
        "scaler = StandardScaler()\n",
        "x_train = scaler.fit_transform(x_train)\n",
        "x_test = scaler.transform(x_test)\n",
        "\n",
        "# 選小的正常資料集做訓練依據\n",
        "n_x_train = x_train[y_train == 0]\n",
        "n_x_train = n_x_train[:1000]\n",
        "\n",
        "# 非監督式模型IsolationForest\n",
        "model = IsolationForest(\n",
        "    n_estimators=5,\n",
        "    contamination=len(fraud)/(len(fraud)+len(nonfraud)),\n",
        "    max_samples=0.825,\n",
        "    max_features=1,\n",
        "    random_state=RANDOM_SEED\n",
        ")\n",
        "\n",
        "model.fit(n_x_train)\n",
        "\n",
        "# 預測與調整輸出\n",
        "y_pred = model.predict(x_test)\n",
        "y_pred = np.where(y_pred == -1, 1, 0) # 異常-1改成1，其餘改成0(正常1改0)\n",
        "\n",
        "# 報告結果\n",
        "evaluation(y_test, y_pred, model_name=\"IsolationForest\")"
      ]
    }
  ],
  "metadata": {
    "colab": {
      "cell_execution_strategy": "setup",
      "gpuType": "T4",
      "provenance": [],
      "authorship_tag": "ABX9TyNMCldVm4JYOIKPNjxsDefF"
    },
    "kernelspec": {
      "display_name": "Python 3",
      "name": "python3"
    },
    "language_info": {
      "name": "python"
    }
  },
  "nbformat": 4,
  "nbformat_minor": 0
}